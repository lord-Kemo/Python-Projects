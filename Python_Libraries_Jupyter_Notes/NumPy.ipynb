{
 "cells": [
  {
   "cell_type": "markdown",
   "id": "afc1e367-fa53-4fd0-9f11-1deb7543d7ff",
   "metadata": {},
   "source": [
    "# Numpy Learning File"
   ]
  },
  {
   "cell_type": "markdown",
   "id": "767d0161-7b4f-4d51-a7a0-854c4e011af3",
   "metadata": {},
   "source": [
    "## _Numpy Arrays_"
   ]
  },
  {
   "cell_type": "code",
   "execution_count": 7,
   "id": "06ebee60-cc5d-4ff8-96b4-fadaa64cd019",
   "metadata": {},
   "outputs": [],
   "source": [
    "import numpy as np"
   ]
  },
  {
   "cell_type": "code",
   "execution_count": 13,
   "id": "914c0a88-9b82-40c7-bf31-864d2a2fce08",
   "metadata": {},
   "outputs": [],
   "source": [
    "# Creating a 1D array\n",
    "list_ = [1, 2, 3, 4, 5]\n",
    "\n"
   ]
  },
  {
   "cell_type": "code",
   "execution_count": 15,
   "id": "a892728a-36f3-44fd-ab85-3c6229194867",
   "metadata": {},
   "outputs": [
    {
     "data": {
      "text/plain": [
       "array([1, 2, 3, 4, 5])"
      ]
     },
     "execution_count": 15,
     "metadata": {},
     "output_type": "execute_result"
    }
   ],
   "source": [
    "# Converting the list to a NumPy array\n",
    "array_1d = np.array(list_)\n",
    "array_1d"
   ]
  },
  {
   "cell_type": "code",
   "execution_count": 21,
   "id": "05b5a739-c971-4ac6-93fa-ca60924ca3da",
   "metadata": {},
   "outputs": [
    {
     "data": {
      "text/plain": [
       "array([[1, 2, 3],\n",
       "       [4, 5, 6],\n",
       "       [7, 8, 9]])"
      ]
     },
     "execution_count": 21,
     "metadata": {},
     "output_type": "execute_result"
    }
   ],
   "source": [
    "# Creating a 2D array\n",
    "list_2d = [[1, 2, 3], [4, 5, 6], [7, 8, 9]]\n",
    "np.array(list_2d)"
   ]
  },
  {
   "cell_type": "markdown",
   "id": "79529ff2-6928-406a-a607-140f26d496be",
   "metadata": {},
   "source": [
    "<hr>\n",
    "\n",
    "### Creating with `arange()`\n",
    "\n",
    "The arguments of `arange()` are:\n",
    "\n",
    "- **start**: Start of the interval range  \n",
    "- **stop**: End of the interval range  \n",
    "- **step**: Step size of the interval  \n",
    "- **dtype**: (Optional) Type of the output array\n",
    "\n"
   ]
  },
  {
   "cell_type": "code",
   "execution_count": 40,
   "id": "d1b77a12-2c59-4b74-a3c3-c87088342820",
   "metadata": {},
   "outputs": [
    {
     "data": {
      "text/plain": [
       "array([1, 2, 3, 4, 5, 6, 7, 8, 9])"
      ]
     },
     "execution_count": 40,
     "metadata": {},
     "output_type": "execute_result"
    }
   ],
   "source": [
    "array_1d = np.arange(1, 10)\n",
    "array_1d"
   ]
  },
  {
   "cell_type": "markdown",
   "id": "1c2afd7d-c6ef-4ded-8ceb-9972bd5e7876",
   "metadata": {},
   "source": [
    "<hr>\n",
    "\n",
    "### Using `zeros()` to Create an Array of Zeros\n",
    "\n",
    "The arguments of `zeros()` are:\n",
    "\n",
    "- **shape**: Dimensions of the array  \n",
    "- **dtype**: (Optional) Type of the output array\n",
    "\n"
   ]
  },
  {
   "cell_type": "code",
   "execution_count": 47,
   "id": "7073b678-44e1-45f7-8e00-f69819559cc0",
   "metadata": {},
   "outputs": [
    {
     "data": {
      "text/plain": [
       "array([[0., 0., 0.],\n",
       "       [0., 0., 0.],\n",
       "       [0., 0., 0.]])"
      ]
     },
     "execution_count": 47,
     "metadata": {},
     "output_type": "execute_result"
    }
   ],
   "source": [
    "array_zeros = np.zeros((3, 3))\n",
    "array_zeros"
   ]
  },
  {
   "cell_type": "markdown",
   "id": "bbd32562-f856-45b8-839c-287054f84cb0",
   "metadata": {},
   "source": [
    "<hr>\n",
    "\n",
    "### Using `ones()` to Create an Array of Ones\n",
    "\n",
    "The arguments of `ones()` are:\n",
    "\n",
    "- **shape**: Dimensions of the array  \n",
    "- **dtype**: (Optional) Type of the output array\n",
    "\n"
   ]
  },
  {
   "cell_type": "code",
   "execution_count": 51,
   "id": "3cbb3bd7-bade-49c8-9b49-cb4587b5c9ce",
   "metadata": {},
   "outputs": [
    {
     "data": {
      "text/plain": [
       "array([[1., 1., 1.],\n",
       "       [1., 1., 1.],\n",
       "       [1., 1., 1.]])"
      ]
     },
     "execution_count": 51,
     "metadata": {},
     "output_type": "execute_result"
    }
   ],
   "source": [
    "array_ones = np.ones((3, 3))\n",
    "array_ones"
   ]
  },
  {
   "cell_type": "markdown",
   "id": "17c4ead6-fc2f-45c0-bc14-261841453612",
   "metadata": {},
   "source": [
    "<hr>\n",
    "\n",
    "### Using `linspace()` to Create an Array of Evenly Spaced Values\n",
    "\n",
    "The arguments of `linspace()` are:\n",
    "\n",
    "- **start**: Start of the interval range  \n",
    "- **stop**: End of the interval range  \n",
    "- **num**: Number of samples to generate  \n",
    "- **endpoint**: If `True`, `stop` is included as the last sample  \n",
    "- **dtype**: (Optional) Type of the output array\n"
   ]
  },
  {
   "cell_type": "code",
   "execution_count": 56,
   "id": "f0cea5bc-cde8-45a6-acc5-51e9236dcb5f",
   "metadata": {},
   "outputs": [
    {
     "data": {
      "text/plain": [
       "array([0.        , 0.55555556, 1.11111111, 1.66666667, 2.22222222,\n",
       "       2.77777778, 3.33333333, 3.88888889, 4.44444444, 5.        ])"
      ]
     },
     "execution_count": 56,
     "metadata": {},
     "output_type": "execute_result"
    }
   ],
   "source": [
    "array_linspace = np.linspace(0, 5, 10)\n",
    "array_linspace"
   ]
  },
  {
   "cell_type": "markdown",
   "id": "df58acde-cbcd-4337-865a-c741b06ebfb2",
   "metadata": {},
   "source": [
    "<hr>\n",
    "\n",
    "### Using `eye()` to Create an Identity Matrix\n",
    "\n",
    "The argument of `eye()` is:\n",
    "\n",
    "- **n**: Number of rows (or columns) in the output matrix\n"
   ]
  },
  {
   "cell_type": "code",
   "execution_count": 59,
   "id": "dcf286b8-a810-4541-a66f-f3a671d25093",
   "metadata": {},
   "outputs": [
    {
     "data": {
      "text/plain": [
       "array([[1., 0., 0.],\n",
       "       [0., 1., 0.],\n",
       "       [0., 0., 1.]])"
      ]
     },
     "execution_count": 59,
     "metadata": {},
     "output_type": "execute_result"
    }
   ],
   "source": [
    "array_eye = np.eye(3)\n",
    "array_eye"
   ]
  },
  {
   "cell_type": "markdown",
   "id": "dbe3109d-1ec5-47cd-9013-a052abe20641",
   "metadata": {},
   "source": [
    "<hr>\n",
    "\n",
    "### Using `random.rand()` to Create an Array of Random Values\n",
    "\n",
    "The arguments of `random.rand()` are:\n",
    "\n",
    "- **shape**: Dimensions of the array  \n",
    "- **dtype**: (Optional) Type of the output array  \n",
    "\n",
    "By default, it creates a one-dimensional array if no shape is specified.\n"
   ]
  },
  {
   "cell_type": "code",
   "execution_count": 62,
   "id": "c805ec9f-a861-47d6-9d5f-f1ef1abc6142",
   "metadata": {},
   "outputs": [
    {
     "data": {
      "text/plain": [
       "array([0.04532242, 0.83135375, 0.73552283])"
      ]
     },
     "execution_count": 62,
     "metadata": {},
     "output_type": "execute_result"
    }
   ],
   "source": [
    "array_random = np.random.rand(3)\n",
    "array_random"
   ]
  },
  {
   "cell_type": "code",
   "execution_count": 64,
   "id": "91a49d3a-43b5-486f-bedf-4945f189901c",
   "metadata": {},
   "outputs": [
    {
     "data": {
      "text/plain": [
       "array([[0.87968551, 0.39248866, 0.43644333],\n",
       "       [0.70917888, 0.78228718, 0.0274481 ],\n",
       "       [0.85660734, 0.25176393, 0.49976655]])"
      ]
     },
     "execution_count": 64,
     "metadata": {},
     "output_type": "execute_result"
    }
   ],
   "source": [
    "#two-dimensional array\n",
    "array_random = np.random.rand(3, 3)\n",
    "array_random"
   ]
  },
  {
   "cell_type": "markdown",
   "id": "7d91ebca-d690-4d8c-bba0-548d21b3b30a",
   "metadata": {},
   "source": [
    "<hr>\n",
    "\n",
    "### Using `random.randn()` to Create an Array of Random Values from the Standard Normal Distribution\n",
    "\n",
    "The arguments of `random.randn()` are:\n",
    "\n",
    "- **shape**: Dimensions of the array  \n",
    "- **dtype**: (Optional) Type of the output array  \n",
    "\n",
    "By default, it creates a one-dimensional array if no shape is specified.\n"
   ]
  },
  {
   "cell_type": "code",
   "execution_count": 69,
   "id": "27faedcf-168f-46ba-a366-89983f5fac93",
   "metadata": {},
   "outputs": [
    {
     "data": {
      "text/plain": [
       "array([ 1.91215618, -0.32460426, -0.3785016 ])"
      ]
     },
     "execution_count": 69,
     "metadata": {},
     "output_type": "execute_result"
    }
   ],
   "source": [
    "array_random = np.random.randn(3)\n",
    "array_random"
   ]
  },
  {
   "cell_type": "code",
   "execution_count": 71,
   "id": "967ba18b-5327-4a2a-9936-33d7aab64ddd",
   "metadata": {},
   "outputs": [
    {
     "data": {
      "text/plain": [
       "array([[ 0.29928461, -0.65721885,  1.41964911],\n",
       "       [ 1.12648015, -0.27379548,  0.19090372],\n",
       "       [-0.84586659,  1.48295756, -0.38812803]])"
      ]
     },
     "execution_count": 71,
     "metadata": {},
     "output_type": "execute_result"
    }
   ],
   "source": [
    "#two-dimensional array\n",
    "array_random = np.random.randn(3, 3)\n",
    "array_random"
   ]
  },
  {
   "cell_type": "markdown",
   "id": "4aeb7b18-8e1b-4a99-b800-03f7b6050ca0",
   "metadata": {},
   "source": [
    "<hr>\n",
    "\n",
    "### Using `random.randint()` to Create an Array of Random Integers\n",
    "\n",
    "The arguments of `random.randint()` are:\n",
    "\n",
    "- **low**: Lower bound of the interval range  \n",
    "- **high**: Upper bound of the interval range  \n",
    "- **size**: Dimensions of the array  \n",
    "- **dtype**: (Optional) Type of the output array  \n",
    "\n",
    "By default, it creates a one-dimensional array if no size is specified.\n"
   ]
  },
  {
   "cell_type": "code",
   "execution_count": 77,
   "id": "42d07989-785f-4275-ad09-d4e9a8d8052f",
   "metadata": {},
   "outputs": [
    {
     "data": {
      "text/plain": [
       "array([5, 7, 3, 5, 2])"
      ]
     },
     "execution_count": 77,
     "metadata": {},
     "output_type": "execute_result"
    }
   ],
   "source": [
    "array_random = np.random.randint(1, 10, 5)\n",
    "array_random"
   ]
  },
  {
   "cell_type": "code",
   "execution_count": 79,
   "id": "e407c2f9-8b03-431c-862a-ab637ddb1332",
   "metadata": {},
   "outputs": [
    {
     "data": {
      "text/plain": [
       "array([[3, 5, 3],\n",
       "       [3, 6, 3],\n",
       "       [9, 9, 5]])"
      ]
     },
     "execution_count": 79,
     "metadata": {},
     "output_type": "execute_result"
    }
   ],
   "source": [
    "#two-dimensional array\n",
    "array_random = np.random.randint(1, 10, (3, 3))\n",
    "array_random"
   ]
  },
  {
   "cell_type": "markdown",
   "id": "9c5e082b-fff4-457a-9b7e-b44d1aebf060",
   "metadata": {},
   "source": [
    "<hr>\n",
    "\n",
    "### Using `reshape()` to Change the Dimensions of an Array\n",
    "\n",
    "The argument of `reshape()` is:\n",
    "\n",
    "- **newshape**: New dimensions of the array"
   ]
  },
  {
   "cell_type": "code",
   "execution_count": 82,
   "id": "3d86def7-bde1-4d25-bb2f-63c919c4d67f",
   "metadata": {},
   "outputs": [
    {
     "data": {
      "text/plain": [
       "array([1, 2, 3, 4, 5, 6, 7, 8, 9])"
      ]
     },
     "execution_count": 82,
     "metadata": {},
     "output_type": "execute_result"
    }
   ],
   "source": [
    "array_1d = np.arange(1, 10)\n",
    "array_1d"
   ]
  },
  {
   "cell_type": "code",
   "execution_count": 90,
   "id": "1b160cf3-fbc7-47c2-a437-77337046a778",
   "metadata": {},
   "outputs": [
    {
     "data": {
      "text/plain": [
       "array([[1, 2, 3],\n",
       "       [4, 5, 6],\n",
       "       [7, 8, 9]])"
      ]
     },
     "execution_count": 90,
     "metadata": {},
     "output_type": "execute_result"
    }
   ],
   "source": [
    "array_2d = array_1d.reshape(3, 3)\n",
    "array_2d"
   ]
  },
  {
   "cell_type": "markdown",
   "id": "b63a8b6c-068f-4529-b359-b1f6c34367ec",
   "metadata": {},
   "source": [
    "---\n",
    "### Using `max()` to Find the Maximum Value in an Array\n",
    "\n",
    "The argument of `max()` is:\n",
    "\n",
    "- **axis**: (Optional) Axis along which the maximum value is computed\n",
    "\n",
    "---\n",
    "\n",
    "### Using `min()` to Find the Minimum Value in an Array\n",
    "\n",
    "The argument of `min()` is:\n",
    "\n",
    "- **axis**: (Optional) Axis along which the minimum value is computed\n"
   ]
  },
  {
   "cell_type": "code",
   "execution_count": 94,
   "id": "c6ef02bb-8b62-4730-94f0-eecc2cb6a078",
   "metadata": {},
   "outputs": [
    {
     "data": {
      "text/plain": [
       "array([[1, 2, 3],\n",
       "       [4, 5, 6],\n",
       "       [7, 8, 9]])"
      ]
     },
     "execution_count": 94,
     "metadata": {},
     "output_type": "execute_result"
    }
   ],
   "source": [
    "array_2d = np.array([[1, 2, 3], [4, 5, 6], [7, 8, 9]])\n",
    "array_2d"
   ]
  },
  {
   "cell_type": "code",
   "execution_count": 98,
   "id": "3e356b38-6fa0-4381-9c66-35980f1d31b2",
   "metadata": {},
   "outputs": [
    {
     "data": {
      "text/plain": [
       "9"
      ]
     },
     "execution_count": 98,
     "metadata": {},
     "output_type": "execute_result"
    }
   ],
   "source": [
    "#maximum value in the entire array\n",
    "max_value = np.max(array_2d)\n",
    "max_value"
   ]
  },
  {
   "cell_type": "code",
   "execution_count": 100,
   "id": "8d01f90a-866c-4439-8dd0-9ed9cd7b3d12",
   "metadata": {},
   "outputs": [
    {
     "data": {
      "text/plain": [
       "array([7, 8, 9])"
      ]
     },
     "execution_count": 100,
     "metadata": {},
     "output_type": "execute_result"
    }
   ],
   "source": [
    "#maximum value along each column\n",
    "max_value = np.max(array_2d, axis=0)\n",
    "max_value"
   ]
  },
  {
   "cell_type": "code",
   "execution_count": 102,
   "id": "68c737b1-cbb6-4fc4-b86d-8faea14ee23b",
   "metadata": {},
   "outputs": [
    {
     "data": {
      "text/plain": [
       "array([3, 6, 9])"
      ]
     },
     "execution_count": 102,
     "metadata": {},
     "output_type": "execute_result"
    }
   ],
   "source": [
    "#maximum value along each row\n",
    "max_value = np.max(array_2d, axis=1)\n",
    "max_value"
   ]
  },
  {
   "cell_type": "markdown",
   "id": "0e609196-f5b1-4224-a62d-895b2e7a4125",
   "metadata": {},
   "source": [
    "- minimum value in the entire array is the same as above but with min() function"
   ]
  },
  {
   "cell_type": "markdown",
   "id": "234199e4-03af-4f9c-9e99-a1b247d127fb",
   "metadata": {},
   "source": [
    "---\n",
    "### Using `argmax()` to Find the Index of the Maximum Value in an Array\n",
    "\n",
    "The argument of `argmax()` is:\n",
    "\n",
    "- **axis**: (Optional) Axis along which the index of the maximum value is computed\n",
    "\n",
    "---\n",
    "\n",
    "### Using `argmin()` to Find the Index of the Minimum Value in an Array\n",
    "\n",
    "The argument of `argmin()` is:\n",
    "\n",
    "- **axis**: (Optional) Axis along which the index of the minimum value is computed\n"
   ]
  },
  {
   "cell_type": "code",
   "execution_count": 109,
   "id": "dea89a07-6b49-4053-ab4b-7c172cc9c99e",
   "metadata": {},
   "outputs": [
    {
     "data": {
      "text/plain": [
       "array([1, 2, 3, 4, 5])"
      ]
     },
     "execution_count": 109,
     "metadata": {},
     "output_type": "execute_result"
    }
   ],
   "source": [
    "array_1d = np.array([1, 2, 3, 4, 5])\n",
    "array_1d"
   ]
  },
  {
   "cell_type": "code",
   "execution_count": 111,
   "id": "5ce964d8-1661-4d3d-b175-cdadfb2ff7c1",
   "metadata": {},
   "outputs": [
    {
     "data": {
      "text/plain": [
       "4"
      ]
     },
     "execution_count": 111,
     "metadata": {},
     "output_type": "execute_result"
    }
   ],
   "source": [
    "max_index = np.argmax(array_1d)\n",
    "max_index"
   ]
  },
  {
   "cell_type": "markdown",
   "id": "4e8a45a8-6be3-427d-843e-8c0b10fde60f",
   "metadata": {},
   "source": [
    "- index of the minimum value is the same as above but with argmin() function\n"
   ]
  },
  {
   "cell_type": "markdown",
   "id": "59eccdf4-1f3e-469f-8dc6-84182782c253",
   "metadata": {},
   "source": [
    "---\n",
    "### Using `shape()` to Get the Dimensions of an Array\n",
    "\n",
    "The arguments of `shape()` are:\n",
    "\n",
    "- **None**\n"
   ]
  },
  {
   "cell_type": "code",
   "execution_count": 129,
   "id": "c9bfab1c-57fa-4357-a229-7aba54abe9be",
   "metadata": {},
   "outputs": [
    {
     "data": {
      "text/plain": [
       "array([[1, 2, 3],\n",
       "       [4, 5, 6],\n",
       "       [7, 8, 9]])"
      ]
     },
     "execution_count": 129,
     "metadata": {},
     "output_type": "execute_result"
    }
   ],
   "source": [
    "array_2d = np.array([[1, 2, 3], [4, 5, 6], [7, 8, 9]])\n",
    "array_2d"
   ]
  },
  {
   "cell_type": "code",
   "execution_count": 133,
   "id": "421a387d-73f8-4964-bee8-70b405365f1c",
   "metadata": {},
   "outputs": [
    {
     "data": {
      "text/plain": [
       "(3, 3)"
      ]
     },
     "execution_count": 133,
     "metadata": {},
     "output_type": "execute_result"
    }
   ],
   "source": [
    "dimensions = array_2d.shape\n",
    "dimensions"
   ]
  },
  {
   "cell_type": "markdown",
   "id": "521177c7-ff57-4ddb-9b54-4f7720403c23",
   "metadata": {},
   "source": [
    "---\n",
    "### Using `dtype()` to Get the Data Type of an Array\n",
    "\n",
    "The arguments of `dtype()` are:\n",
    "\n",
    "- **None**\n"
   ]
  },
  {
   "cell_type": "code",
   "execution_count": 141,
   "id": "c7c7dd51-e0e4-44f0-bc4c-ba9567e377aa",
   "metadata": {},
   "outputs": [
    {
     "data": {
      "text/plain": [
       "array([1, 2, 3, 4, 5])"
      ]
     },
     "execution_count": 141,
     "metadata": {},
     "output_type": "execute_result"
    }
   ],
   "source": [
    "array_1d = np.array([1, 2, 3, 4, 5])\n",
    "array_1d"
   ]
  },
  {
   "cell_type": "code",
   "execution_count": 143,
   "id": "3db3d54b-a93f-44f0-b8f6-a2cb0b08866c",
   "metadata": {},
   "outputs": [
    {
     "data": {
      "text/plain": [
       "dtype('int32')"
      ]
     },
     "execution_count": 143,
     "metadata": {},
     "output_type": "execute_result"
    }
   ],
   "source": [
    "data_type = array_1d.dtype\n",
    "data_type"
   ]
  },
  {
   "cell_type": "markdown",
   "id": "44b1fc19-e2fb-4e69-92e3-e2145fed2d40",
   "metadata": {},
   "source": [
    "---\n",
    "### Array Indexing and Slicing in NumPy\n",
    "\n",
    "Explanation:\n",
    "\n",
    "- Indexing is used to access individual elements in an array.\n",
    "- Slicing is used to access a range of elements or subarrays.\n",
    "- You can update elements or ranges of elements through indexing and slicing.\n",
    "- Creating a copy using `copy()` ensures modifications to the slice do not affect the original array.\n"
   ]
  },
  {
   "cell_type": "code",
   "execution_count": 149,
   "id": "04cf678f-b9f8-417c-9da4-9223b44dc9f8",
   "metadata": {},
   "outputs": [
    {
     "name": "stdout",
     "output_type": "stream",
     "text": [
      "[ 0  1  2  3  4  5  6  7  8  9 10]\n"
     ]
    },
    {
     "data": {
      "text/plain": [
       "0"
      ]
     },
     "execution_count": 149,
     "metadata": {},
     "output_type": "execute_result"
    }
   ],
   "source": [
    "arr = np.arange(0, 11)\n",
    "print(arr)\n",
    "element = arr[0]\n",
    "element"
   ]
  },
  {
   "cell_type": "code",
   "execution_count": 157,
   "id": "17e5d856-6454-4a03-9ecf-bf4a7d24210e",
   "metadata": {},
   "outputs": [
    {
     "data": {
      "text/plain": [
       "array([1, 2, 3, 4])"
      ]
     },
     "execution_count": 157,
     "metadata": {},
     "output_type": "execute_result"
    }
   ],
   "source": [
    "#accessing a range of elements\n",
    "range_elements = arr[1:5]\n",
    "range_elements"
   ]
  },
  {
   "cell_type": "code",
   "execution_count": 155,
   "id": "a13b9786-fa43-4444-8998-84ccb1944fdd",
   "metadata": {},
   "outputs": [
    {
     "data": {
      "text/plain": [
       "array([100,   1,   2,   3,   4,   5,   6,   7,   8,   9,  10])"
      ]
     },
     "execution_count": 155,
     "metadata": {},
     "output_type": "execute_result"
    }
   ],
   "source": [
    "#updating an element\n",
    "arr[0] = 100\n",
    "arr"
   ]
  },
  {
   "cell_type": "code",
   "execution_count": 159,
   "id": "ea24bfd0-1ea7-458c-948d-0e07129df68f",
   "metadata": {},
   "outputs": [
    {
     "data": {
      "text/plain": [
       "array([100, 200, 200, 200, 200,   5,   6,   7,   8,   9,  10])"
      ]
     },
     "execution_count": 159,
     "metadata": {},
     "output_type": "execute_result"
    }
   ],
   "source": [
    "arr[1:5] = 200\n",
    "arr"
   ]
  },
  {
   "cell_type": "code",
   "execution_count": 161,
   "id": "744e0fbb-7610-4082-baf0-8c3b7ef885ea",
   "metadata": {},
   "outputs": [
    {
     "data": {
      "text/plain": [
       "array([300, 300, 300, 300, 300])"
      ]
     },
     "execution_count": 161,
     "metadata": {},
     "output_type": "execute_result"
    }
   ],
   "source": [
    "#slicing an array\n",
    "slice_array = arr[0:5]\n",
    "#slicing an array and updating the slice\n",
    "slice_array[:] = 300\n",
    "slice_array\n"
   ]
  },
  {
   "cell_type": "code",
   "execution_count": 168,
   "id": "91364363-4bf7-431d-8975-d10a530f3bf1",
   "metadata": {},
   "outputs": [
    {
     "data": {
      "text/plain": [
       "array([300, 300, 300, 300, 300,   5,   6,   7,   8,   9,  10])"
      ]
     },
     "execution_count": 168,
     "metadata": {},
     "output_type": "execute_result"
    }
   ],
   "source": [
    "#the original array is updated as well since the slice is a view of the original array\n",
    "arr"
   ]
  },
  {
   "cell_type": "code",
   "execution_count": 174,
   "id": "f2025688-9d56-4ffb-b347-327f5d334f4c",
   "metadata": {},
   "outputs": [
    {
     "data": {
      "text/plain": [
       "array([ 0,  1,  2,  3,  4,  5,  6,  7,  8,  9, 10])"
      ]
     },
     "execution_count": 174,
     "metadata": {},
     "output_type": "execute_result"
    }
   ],
   "source": [
    "#creating a copy of an array\n",
    "arr = np.arange(0,11)\n",
    "array_copy = arr.copy()\n",
    "array_copy"
   ]
  },
  {
   "cell_type": "code",
   "execution_count": null,
   "id": "cb6b9913-1198-4d9d-a8ea-f841ff09d350",
   "metadata": {},
   "outputs": [],
   "source": [
    "#slicing effect on the original array and the copy array is different because of the copy() function used to create the copy array\n",
    "#slicing an array and updating the slice in the copy array does not affect the original array \n",
    "#slicing an array and updating the slice in the original array affects the copy array as well because the copy array is a view of the original array"
   ]
  },
  {
   "cell_type": "markdown",
   "id": "ec16e549-7f3a-423f-a491-2c66a021f10f",
   "metadata": {},
   "source": [
    "---\n",
    "### Slicing a 2D Array\n",
    "\n",
    "Explanation:\n",
    "\n",
    "- Indexing a 2D array can be done using two methods: `array[row][col]` or `array[row, col]`.\n",
    "- Slicing can extract rows, columns, or subarrays.\n"
   ]
  },
  {
   "cell_type": "code",
   "execution_count": 176,
   "id": "faf0a5a7-f7a7-4ef2-bb53-2bc25f50e1d4",
   "metadata": {},
   "outputs": [
    {
     "data": {
      "text/plain": [
       "array([[1, 2, 3],\n",
       "       [4, 5, 6],\n",
       "       [7, 8, 9]])"
      ]
     },
     "execution_count": 176,
     "metadata": {},
     "output_type": "execute_result"
    }
   ],
   "source": [
    "array_4d = np.array([[1, 2, 3], [4, 5, 6], [7, 8, 9]])\n",
    "array_4d"
   ]
  },
  {
   "cell_type": "code",
   "execution_count": 178,
   "id": "1bc515f1-af43-46cc-ae57-3b2d25d5c7b2",
   "metadata": {},
   "outputs": [
    {
     "data": {
      "text/plain": [
       "1"
      ]
     },
     "execution_count": 178,
     "metadata": {},
     "output_type": "execute_result"
    }
   ],
   "source": [
    "#accessing an element\n",
    "# first method \n",
    "element = array_2d[0][0]\n",
    "element"
   ]
  },
  {
   "cell_type": "code",
   "execution_count": 180,
   "id": "a6cdcc5e-4d6d-4e1e-bd95-ddb0ca927df6",
   "metadata": {},
   "outputs": [
    {
     "data": {
      "text/plain": [
       "1"
      ]
     },
     "execution_count": 180,
     "metadata": {},
     "output_type": "execute_result"
    }
   ],
   "source": [
    "# second method\n",
    "element = array_2d[0, 0]\n",
    "element"
   ]
  },
  {
   "cell_type": "code",
   "execution_count": 184,
   "id": "3fc1ff38-b9e7-4ad8-96a9-464570ce103e",
   "metadata": {},
   "outputs": [
    {
     "data": {
      "text/plain": [
       "array([1, 2, 3])"
      ]
     },
     "execution_count": 184,
     "metadata": {},
     "output_type": "execute_result"
    }
   ],
   "source": [
    "#accessing a row or a column of elements (subarray)\n",
    "#accessing a row\n",
    "row = array_4d[0]\n",
    "row"
   ]
  },
  {
   "cell_type": "code",
   "execution_count": 186,
   "id": "2a666f1f-e321-4ac8-a123-c83e7da2744a",
   "metadata": {},
   "outputs": [
    {
     "data": {
      "text/plain": [
       "array([1, 4, 7])"
      ]
     },
     "execution_count": 186,
     "metadata": {},
     "output_type": "execute_result"
    }
   ],
   "source": [
    "#accessing a column\n",
    "column = array_2d[:, 0]\n",
    "column"
   ]
  },
  {
   "cell_type": "code",
   "execution_count": 188,
   "id": "250f18a0-88b8-4a98-b729-bdfa88be87fb",
   "metadata": {},
   "outputs": [
    {
     "data": {
      "text/plain": [
       "array([[2, 3],\n",
       "       [5, 6]])"
      ]
     },
     "execution_count": 188,
     "metadata": {},
     "output_type": "execute_result"
    }
   ],
   "source": [
    "#accessing a subarray\n",
    "subarray = array_2d[:2, 1:]\n",
    "subarray"
   ]
  },
  {
   "cell_type": "markdown",
   "id": "11609e99-0c97-4bf9-aed9-9540a286629f",
   "metadata": {},
   "source": [
    "---\n",
    "### Using Conditional Selection to Filter Elements in an Array\n",
    "\n",
    "Explanation:\n",
    "\n",
    "- Conditional selection allows you to create filters based on conditions (e.g., greater than, less than).\n",
    "- This feature is powerful for filtering data without loops.\n"
   ]
  },
  {
   "cell_type": "code",
   "execution_count": 195,
   "id": "4ecd9b69-878d-4eb2-bb23-f5363c62ef88",
   "metadata": {},
   "outputs": [
    {
     "data": {
      "text/plain": [
       "array([ 0,  1,  2,  3,  4,  5,  6,  7,  8,  9, 10])"
      ]
     },
     "execution_count": 195,
     "metadata": {},
     "output_type": "execute_result"
    }
   ],
   "source": [
    "#creating an array\n",
    "array_ = np.arange(0, 11)\n",
    "array_"
   ]
  },
  {
   "cell_type": "code",
   "execution_count": 201,
   "id": "61207333-d003-4e85-b5a7-76590e3ff7c4",
   "metadata": {},
   "outputs": [
    {
     "data": {
      "text/plain": [
       "array([ 6,  7,  8,  9, 10])"
      ]
     },
     "execution_count": 201,
     "metadata": {},
     "output_type": "execute_result"
    }
   ],
   "source": [
    "#filtering elements greater than 5\n",
    "filtered_array = array_[array_ > 5]\n",
    "filtered_array"
   ]
  },
  {
   "cell_type": "code",
   "execution_count": 203,
   "id": "c8a7bf68-b66a-455b-94fc-f66ab35e2b2d",
   "metadata": {},
   "outputs": [
    {
     "data": {
      "text/plain": [
       "array([0, 1, 2, 3, 4, 5])"
      ]
     },
     "execution_count": 203,
     "metadata": {},
     "output_type": "execute_result"
    }
   ],
   "source": [
    "#filtering elements less than or equal to 5\n",
    "filtered_array_1 = array_[array_ <= 5]\n",
    "filtered_array_1"
   ]
  },
  {
   "cell_type": "code",
   "execution_count": 207,
   "id": "b50357dc-c918-45ab-b073-decdad4e71bd",
   "metadata": {},
   "outputs": [
    {
     "data": {
      "text/plain": [
       "array([False, False, False, False, False, False,  True,  True,  True,\n",
       "        True,  True])"
      ]
     },
     "execution_count": 207,
     "metadata": {},
     "output_type": "execute_result"
    }
   ],
   "source": [
    "array_ > 5"
   ]
  },
  {
   "cell_type": "code",
   "execution_count": 213,
   "id": "679cfd0d-5d37-46f8-85ea-141fdbc1c785",
   "metadata": {},
   "outputs": [
    {
     "data": {
      "text/plain": [
       "array([ 6,  7,  8,  9, 10])"
      ]
     },
     "execution_count": 213,
     "metadata": {},
     "output_type": "execute_result"
    }
   ],
   "source": [
    "#filtering elements based on multiple conditions\n",
    "res = array_[array_> 5]\n",
    "res"
   ]
  },
  {
   "cell_type": "code",
   "execution_count": null,
   "id": "c1b91369-7453-4218-93b0-b4131eaf2c38",
   "metadata": {},
   "outputs": [],
   "source": []
  }
 ],
 "metadata": {
  "kernelspec": {
   "display_name": "Python 3 (ipykernel)",
   "language": "python",
   "name": "python3"
  },
  "language_info": {
   "codemirror_mode": {
    "name": "ipython",
    "version": 3
   },
   "file_extension": ".py",
   "mimetype": "text/x-python",
   "name": "python",
   "nbconvert_exporter": "python",
   "pygments_lexer": "ipython3",
   "version": "3.12.7"
  }
 },
 "nbformat": 4,
 "nbformat_minor": 5
}
